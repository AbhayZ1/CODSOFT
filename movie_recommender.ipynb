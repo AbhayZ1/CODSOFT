{
  "cells": [
    {
      "cell_type": "markdown",
      "metadata": {
        "id": "view-in-github",
        "colab_type": "text"
      },
      "source": [
        "<a href=\"https://colab.research.google.com/github/AbhayZ1/CODSOFT/blob/main/movie_recommender.ipynb\" target=\"_parent\"><img src=\"https://colab.research.google.com/assets/colab-badge.svg\" alt=\"Open In Colab\"/></a>"
      ]
    },
    {
      "cell_type": "code",
      "execution_count": 1,
      "metadata": {
        "colab": {
          "base_uri": "https://localhost:8080/"
        },
        "id": "KUDHVItSnzDJ",
        "outputId": "fa967e94-f526-4054-d364-43f70471aa70"
      },
      "outputs": [
        {
          "output_type": "stream",
          "name": "stdout",
          "text": [
            "Collecting surprise\n",
            "  Downloading surprise-0.1-py2.py3-none-any.whl.metadata (327 bytes)\n",
            "Collecting scikit-surprise (from surprise)\n",
            "  Downloading scikit_surprise-1.1.4.tar.gz (154 kB)\n",
            "\u001b[2K     \u001b[90m━━━━━━━━━━━━━━━━━━━━━━━━━━━━━━━━━━━━━━━━\u001b[0m \u001b[32m154.4/154.4 kB\u001b[0m \u001b[31m10.5 MB/s\u001b[0m eta \u001b[36m0:00:00\u001b[0m\n",
            "\u001b[?25h  Installing build dependencies ... \u001b[?25l\u001b[?25hdone\n",
            "  Getting requirements to build wheel ... \u001b[?25l\u001b[?25hdone\n",
            "  Preparing metadata (pyproject.toml) ... \u001b[?25l\u001b[?25hdone\n",
            "Requirement already satisfied: joblib>=1.2.0 in /usr/local/lib/python3.11/dist-packages (from scikit-surprise->surprise) (1.4.2)\n",
            "Requirement already satisfied: numpy>=1.19.5 in /usr/local/lib/python3.11/dist-packages (from scikit-surprise->surprise) (1.26.4)\n",
            "Requirement already satisfied: scipy>=1.6.0 in /usr/local/lib/python3.11/dist-packages (from scikit-surprise->surprise) (1.13.1)\n",
            "Downloading surprise-0.1-py2.py3-none-any.whl (1.8 kB)\n",
            "Building wheels for collected packages: scikit-surprise\n",
            "  Building wheel for scikit-surprise (pyproject.toml) ... \u001b[?25l\u001b[?25hdone\n",
            "  Created wheel for scikit-surprise: filename=scikit_surprise-1.1.4-cp311-cp311-linux_x86_64.whl size=2505171 sha256=44d67c604d07c82993025b20cf1cd58bbec4603db6cf901eadbc643f6b9284ec\n",
            "  Stored in directory: /root/.cache/pip/wheels/2a/8f/6e/7e2899163e2d85d8266daab4aa1cdabec7a6c56f83c015b5af\n",
            "Successfully built scikit-surprise\n",
            "Installing collected packages: scikit-surprise, surprise\n",
            "Successfully installed scikit-surprise-1.1.4 surprise-0.1\n"
          ]
        }
      ],
      "source": [
        "!pip install surprise"
      ]
    },
    {
      "cell_type": "code",
      "execution_count": 2,
      "metadata": {
        "id": "9LLVGRCuoPuh"
      },
      "outputs": [],
      "source": [
        "import pandas as pd\n",
        "import pickle\n",
        "from surprise import Dataset, Reader, SVD\n",
        "from surprise.model_selection import cross_validate\n",
        "\n",
        "# Load the movie and rating data into Pandas DataFrames\n",
        "movies_path = 'movies.csv'  # Replace with the path to your movies.csv\n",
        "ratings_path = 'ratings.csv'  # Replace with the path to your ratings.csv\n",
        "\n",
        "movies = pd.read_csv(movies_path)\n",
        "ratings = pd.read_csv(ratings_path)\n",
        "\n"
      ]
    },
    {
      "cell_type": "code",
      "execution_count": null,
      "metadata": {
        "colab": {
          "base_uri": "https://localhost:8080/"
        },
        "id": "LRmNB9XGHuxf",
        "outputId": "4d00895c-3303-4f86-bb7c-f3933eaae689"
      },
      "outputs": [
        {
          "output_type": "stream",
          "name": "stdout",
          "text": [
            "   movieId                               title  \\\n",
            "0        1                    Toy Story (1995)   \n",
            "1        2                      Jumanji (1995)   \n",
            "2        3             Grumpier Old Men (1995)   \n",
            "3        4            Waiting to Exhale (1995)   \n",
            "4        5  Father of the Bride Part II (1995)   \n",
            "\n",
            "                                        genres  \n",
            "0  Adventure|Animation|Children|Comedy|Fantasy  \n",
            "1                   Adventure|Children|Fantasy  \n",
            "2                               Comedy|Romance  \n",
            "3                         Comedy|Drama|Romance  \n",
            "4                                       Comedy  \n",
            "   userId  movieId  rating   timestamp\n",
            "0       1      296     5.0  1147880044\n",
            "1       1      306     3.5  1147868817\n",
            "2       1      307     5.0  1147868828\n",
            "3       1      665     5.0  1147878820\n",
            "4       1      899     3.5  1147868510\n",
            "\n",
            "Cross-validating the model...\n"
          ]
        }
      ],
      "source": [
        "# Inspect the data (optional)\n",
        "print(movies.head())\n",
        "print(ratings.head())\n",
        "\n",
        "# Prepare the data for the Surprise library\n",
        "reader = Reader(rating_scale=(0.5, 5.0))\n",
        "data = Dataset.load_from_df(ratings[['userId', 'movieId', 'rating']], reader)\n",
        "\n",
        "# Use SVD (Singular Value Decomposition) for collaborative filtering\n",
        "model = SVD()\n",
        "\n",
        "# Evaluate the model using cross-validation\n",
        "print(\"\\nCross-validating the model...\")\n",
        "cross_validate(model, data, measures=['RMSE', 'MAE'], cv=5, verbose=True)\n",
        "\n",
        "# Train the model on the entire dataset\n",
        "trainset = data.build_full_trainset()\n",
        "model.fit(trainset)\n",
        "\n",
        "# Save the trained model to a file\n",
        "model_path = 'svd_model.pkl'\n",
        "with open(model_path, 'wb') as f:\n",
        "    pickle.dump(model, f)\n",
        "print(f\"\\nModel saved to {model_path}.\")\n",
        "\n"
      ]
    },
    {
      "cell_type": "code",
      "execution_count": null,
      "metadata": {
        "id": "7VO-yepfH1Y8"
      },
      "outputs": [],
      "source": [
        "# Load the model from the file\n",
        "def load_model(path):\n",
        "    with open(path, 'rb') as f:\n",
        "        return pickle.load(f)\n",
        "\n",
        "# Recommend top N movies for a specific user\n",
        "def recommend_top_n(user_id, model, movies, n=10):\n",
        "    all_movie_ids = movies['movieId'].unique()\n",
        "    watched_movies = ratings[ratings['userId'] == user_id]['movieId']\n",
        "    unwatched_movies = set(all_movie_ids) - set(watched_movies)\n",
        "\n",
        "    recommendations = []\n",
        "    for movie_id in unwatched_movies:\n",
        "        predicted_rating = model.predict(user_id, movie_id).est\n",
        "        recommendations.append((movie_id, predicted_rating))\n",
        "\n",
        "    # Sort by predicted rating in descending order\n",
        "    recommendations.sort(key=lambda x: x[1], reverse=True)\n",
        "\n",
        "    # Get top N recommendations\n",
        "    top_n = recommendations[:n]\n",
        "\n",
        "    # Map movie IDs to titles\n",
        "    top_n_movies = [(movies[movies['movieId'] == movie_id]['title'].values[0], rating) for movie_id, rating in top_n]\n",
        "    return top_n_movies\n",
        "\n",
        "# Get movie recommendations based on a movie name\n",
        "def recommend_based_on_movie(movie_name, model, movies, ratings, user_id=1, n=10):\n",
        "    if movie_name not in movies['title'].values:\n",
        "        return f\"Movie '{movie_name}' not found in the dataset.\"\n",
        "\n",
        "    movie_id = movies[movies['title'] == movie_name]['movieId'].values[0]\n",
        "    predicted_rating = model.predict(user_id, movie_id).est\n",
        "\n",
        "    print(f\"\\nPredicted rating for User {user_id} on '{movie_name}': {predicted_rating:.2f}\")\n",
        "\n",
        "    print(\"\\nTop 10 movie recommendations:\")\n",
        "    recommendations = recommend_top_n(user_id, model, movies, n=n)\n",
        "    for i, (title, rating) in enumerate(recommendations, 1):\n",
        "        print(f\"{i}. {title} (Predicted Rating: {rating:.2f})\")\n",
        "\n"
      ]
    },
    {
      "cell_type": "code",
      "execution_count": null,
      "metadata": {
        "id": "YZUv6HTFH44W"
      },
      "outputs": [],
      "source": [
        "# Main interactive functionality\n",
        "def main():\n",
        "    global model\n",
        "\n",
        "    # Load the saved model\n",
        "    model = load_model(model_path)\n",
        "    print(\"Model loaded successfully.\")\n",
        "\n",
        "    while True:\n",
        "        print(\"\\nOptions:\")\n",
        "        print(\"1. Get recommendations based on a movie\")\n",
        "        print(\"2. Exit\")\n",
        "\n",
        "        choice = input(\"Enter your choice: \")\n",
        "        if choice == '1':\n",
        "            movie_name = input(\"Enter a movie name: \")\n",
        "            user_id = int(input(\"Enter your user ID: \"))\n",
        "            recommend_based_on_movie(movie_name, model, movies, ratings, user_id=user_id)\n",
        "        elif choice == '2':\n",
        "            print(\"Exiting the program. Goodbye!\")\n",
        "            break\n",
        "        else:\n",
        "            print(\"Invalid choice. Please try again.\")\n",
        "\n",
        "if __name__ == \"__main__\":\n",
        "    main()\n"
      ]
    },
    {
      "cell_type": "code",
      "execution_count": null,
      "metadata": {
        "id": "g7u-kLnGMDU-"
      },
      "outputs": [],
      "source": [
        "import pandas as pd\n",
        "import pickle\n",
        "from surprise import Dataset, Reader, SVD\n",
        "from surprise.model_selection import cross_validate\n",
        "\n",
        "# Load the movie and rating data into Pandas DataFrames\n",
        "movies_path = 'movies.csv'  # Replace with the path to your movies.csv\n",
        "ratings_path = 'ratings.csv'  # Replace with the path to your ratings.csv\n",
        "\n",
        "movies = pd.read_csv(movies_path)\n",
        "ratings = pd.read_csv(ratings_path)\n",
        "\n",
        "# Inspect the data (optional)\n",
        "print(movies.head())\n",
        "print(ratings.head())\n",
        "\n",
        "# Prepare the data for the Surprise library\n",
        "reader = Reader(rating_scale=(0.5, 5.0))\n",
        "data = Dataset.load_from_df(ratings[['userId', 'movieId', 'rating']], reader)\n",
        "\n",
        "# Use SVD (Singular Value Decomposition) for collaborative filtering\n",
        "model = SVD()\n",
        "\n",
        "# Evaluate the model using cross-validation\n",
        "print(\"\\nCross-validating the model...\")\n",
        "cross_validate(model, data, measures=['RMSE', 'MAE'], cv=5, verbose=True)\n",
        "\n",
        "# Train the model on the entire dataset\n",
        "trainset = data.build_full_trainset()\n",
        "model.fit(trainset)\n",
        "\n",
        "# Save the trained model to a file\n",
        "model_path = 'svd_model.pkl'\n",
        "with open(model_path, 'wb') as f:\n",
        "    pickle.dump(model, f)\n",
        "print(f\"\\nModel saved to {model_path}.\")\n",
        "\n",
        "# Load the model from the file\n",
        "def load_model(path):\n",
        "    with open(path, 'rb') as f:\n",
        "        return pickle.load(f)\n",
        "\n",
        "# Recommend top N movies for a specific user\n",
        "def recommend_top_n(user_id, model, movies, ratings, n=10):\n",
        "    all_movie_ids = movies['movieId'].unique()\n",
        "    watched_movies = ratings[ratings['userId'] == user_id]['movieId']\n",
        "    unwatched_movies = set(all_movie_ids) - set(watched_movies)\n",
        "\n",
        "    recommendations = []\n",
        "    for movie_id in unwatched_movies:\n",
        "        predicted_rating = model.predict(user_id, movie_id).est\n",
        "        recommendations.append((movie_id, predicted_rating))\n",
        "\n",
        "    # Sort by predicted rating in descending order\n",
        "    recommendations.sort(key=lambda x: x[1], reverse=True)\n",
        "\n",
        "    # Get top N recommendations\n",
        "    top_n = recommendations[:n]\n",
        "\n",
        "    # Map movie IDs to titles\n",
        "    top_n_movies = [(movies[movies['movieId'] == movie_id]['title'].values[0], rating) for movie_id, rating in top_n]\n",
        "    return top_n_movies\n",
        "\n",
        "# Get movie recommendations based on a movie name\n",
        "def recommend_based_on_movie(movie_name, model, movies, ratings, user_id=1, n=10):\n",
        "    if movie_name not in movies['title'].values:\n",
        "        print(f\"Movie '{movie_name}' not found in the dataset.\")\n",
        "        return\n",
        "\n",
        "    movie_id = movies[movies['title'] == movie_name]['movieId'].values[0]\n",
        "    predicted_rating = model.predict(user_id, movie_id).est\n",
        "\n",
        "    print(f\"\\nPredicted rating for User {user_id} on '{movie_name}': {predicted_rating:.2f}\")\n",
        "\n",
        "    print(\"\\nTop 10 movie recommendations:\")\n",
        "    recommendations = recommend_top_n(user_id, model, movies, ratings, n=n)\n",
        "    for i, (title, rating) in enumerate(recommendations, 1):\n",
        "        print(f\"{i}. {title} (Predicted Rating: {rating:.2f})\")\n",
        "\n",
        "# Main functionality (only recommend once)\n",
        "def main():\n",
        "    # Load the saved model\n",
        "    model = load_model(model_path)\n",
        "    print(\"Model loaded successfully.\")\n",
        "\n",
        "    # Ask for movie name and user ID\n",
        "    movie_name = input(\"Enter a movie name: \")\n",
        "    user_id = int(input(\"Enter your user ID: \"))\n",
        "\n",
        "    # Provide recommendations based on the movie and user\n",
        "    recommend_based_on_movie(movie_name, model, movies, ratings, user_id=user_id)\n",
        "\n",
        "if __name__ == \"__main__\":\n",
        "    main()\n"
      ]
    },
    {
      "cell_type": "code",
      "source": [],
      "metadata": {
        "id": "QGgFBb1t0V__"
      },
      "execution_count": null,
      "outputs": []
    }
  ],
  "metadata": {
    "colab": {
      "provenance": [],
      "gpuType": "T4",
      "authorship_tag": "ABX9TyO98XT0501KdixvyaxEDA9O",
      "include_colab_link": true
    },
    "kernelspec": {
      "display_name": "Python 3",
      "name": "python3"
    },
    "language_info": {
      "name": "python"
    },
    "accelerator": "GPU"
  },
  "nbformat": 4,
  "nbformat_minor": 0
}